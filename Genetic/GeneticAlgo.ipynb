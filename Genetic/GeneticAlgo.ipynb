{
 "cells": [
  {
   "cell_type": "code",
   "execution_count": 145,
   "metadata": {
    "pycharm": {
     "is_executing": false
    }
   },
   "outputs": [],
   "source": [
    "import seaborn as sns\n",
    "import matplotlib.pyplot as plt\n",
    "import random  \n",
    "import copy \n",
    "import csv \n",
    "import pandas as pd \n",
    "import numpy as np "
   ]
  },
  {
   "cell_type": "code",
   "execution_count": 146,
   "metadata": {
    "pycharm": {
     "is_executing": false
    }
   },
   "outputs": [],
   "source": [
    "def initializeMap(p_zero, N):\n",
    "    amap = np.zeros((N,N))\n",
    "    for i in range(0, N):\n",
    "        for j in range(0, i):\n",
    "            if random.random() > p_zero:\n",
    "                amap[i][j] = amap[j][i] = random.random()\n",
    "                \n",
    "    return amap "
   ]
  },
  {
   "cell_type": "code",
   "execution_count": 147,
   "metadata": {
    "pycharm": {
     "is_executing": false
    }
   },
   "outputs": [],
   "source": [
    "def initializeComplexMap(p_zero, N, groups):\n",
    "    amap = np.zeros((N,N))\n",
    "\n",
    "    for i in range(0, N):\n",
    "        for j in range(0, i):\n",
    "            group_i = int(i/(N/groups))\n",
    "            group_j = int(j/(N/groups))\n",
    "\n",
    "            if random.random() > p_zero and abs(group_i - group_j) <= 1:\n",
    "                amap[i][j] = random.random()\n",
    "                amap[j][i] = amap[i][j]\n",
    "\n",
    "    ax = sns.heatmap(amap)\n",
    "    plt.show()\n",
    "    return amap"
   ]
  },
  {
   "cell_type": "code",
   "execution_count": 148,
   "metadata": {},
   "outputs": [],
   "source": [
    "def createMapFromCsv():\n",
    "    data = pd.read_csv(\"map.csv\", names=['source', 'dest', 'weight'],usecols=[0, 1, 5]) \n",
    "    allPueblos = []\n",
    "    for i in data['source']:\n",
    "        if i not in allPueblos and i is not np.nan: \n",
    "            allPueblos.append(i)\n",
    "    \n",
    "    for i in data['dest']:\n",
    "        if i not in allPueblos and i is not np.nan: \n",
    "            allPueblos.append(i)\n",
    "    N = len(allPueblos)\n",
    "    \n",
    "    print(\"Source: \" + allPueblos[0] + \" Destination: \" + allPueblos[N-1])\n",
    "    \n",
    "    amap = np.zeros((N,N))\n",
    "    for i in range(0, N):\n",
    "        for j in range(0, i):\n",
    "            src = allPueblos[i]\n",
    "            dest = allPueblos[j]\n",
    "            value = data.loc[(data['source']==src) & (data['dest']==dest)]['weight'].values\n",
    "            if(len(value)==1):\n",
    "                amap[i][j] = amap[j][i] = value\n",
    "\n",
    "    ax = sns.heatmap(amap)\n",
    "    plt.show()\n",
    "    return amap"
   ]
  },
  {
   "cell_type": "code",
   "execution_count": 149,
   "metadata": {
    "pycharm": {
     "is_executing": false
    }
   },
   "outputs": [],
   "source": [
    "def createStartingPopulation(size, amap):\n",
    "    population = []\n",
    "    for i in range(0,size):\n",
    "        population.append(createNewMember(amap))\n",
    "        \n",
    "    return population"
   ]
  },
  {
   "cell_type": "code",
   "execution_count": 150,
   "metadata": {
    "pycharm": {
     "is_executing": false
    }
   },
   "outputs": [],
   "source": [
    "def crossover(a, b):\n",
    "    common_elements = set(a) & set(b)\n",
    "    if len(common_elements) == 2:\n",
    "        return (a, b)\n",
    "    else:\n",
    "        common_elements.remove(0)\n",
    "        common_elements.remove(max(a)) \n",
    "        value = random.sample(common_elements, 1)        \n",
    "    \n",
    "    cut_a = np.random.choice(np.where(np.isin(a, value))[0])\n",
    "    cut_b = np.random.choice(np.where(np.isin(b, value))[0])\n",
    "    \n",
    "    new_a1 = copy.deepcopy(a[0:cut_a])\n",
    "    new_a2 = copy.deepcopy(b[cut_b:])\n",
    "    \n",
    "    new_b1 = copy.deepcopy(b[0:cut_b])\n",
    "    new_b2 = copy.deepcopy(a[cut_a:])\n",
    "    \n",
    "    new_a = np.append(new_a1, new_a2)\n",
    "    new_b = np.append(new_b1, new_b2)\n",
    "       \n",
    "    return (new_a, new_b)"
   ]
  },
  {
   "cell_type": "code",
   "execution_count": 151,
   "metadata": {
    "pycharm": {
     "is_executing": false
    }
   },
   "outputs": [],
   "source": [
    "def mutate(route, probability, amap):\n",
    "    new_route = copy.deepcopy(route)\n",
    "    \n",
    "    for i in range(1, len(new_route)):\n",
    "        if random.random() < probability:\n",
    "            go = True\n",
    "            while go:\n",
    "                possible_values = np.nonzero(amap[new_route[i-1]])\n",
    "                proposed_value = random.randint(0,len(possible_values[0])-1)\n",
    "                route = np.append(new_route, possible_values[0][proposed_value])\n",
    "\n",
    "                if new_route[i] == len(amap)-1:\n",
    "                    go = False\n",
    "                else:\n",
    "                    i += 1\n",
    "    \n",
    "    return new_route"
   ]
  },
  {
   "cell_type": "code",
   "execution_count": 152,
   "metadata": {
    "pycharm": {
     "is_executing": false
    }
   },
   "outputs": [],
   "source": [
    "def createNewMember(amap):\n",
    "    N = len(amap)\n",
    "    route = np.zeros(1, dtype=int)\n",
    "    go = True\n",
    "    i = 1\n",
    "    while go:\n",
    "        possible_values = np.nonzero(amap[route[i-1]])\n",
    "        proposed_value = random.randint(0,len(possible_values[0])-1)\n",
    "        route = np.append(route, possible_values[0][proposed_value])\n",
    "                \n",
    "        if route[i] == N-1:\n",
    "            go = False\n",
    "        else:\n",
    "            i += 1\n",
    "    \n",
    "    return route"
   ]
  },
  {
   "cell_type": "code",
   "execution_count": 153,
   "metadata": {
    "pycharm": {
     "is_executing": false
    }
   },
   "outputs": [],
   "source": [
    "def scorePopulation(population, amap):\n",
    "    scores = []\n",
    "    for i in range(0, len(population)):\n",
    "        scores += [fitness(population[i], amap)]\n",
    "        \n",
    "    return scores"
   ]
  },
  {
   "cell_type": "code",
   "execution_count": 154,
   "metadata": {
    "pycharm": {
     "is_executing": false,
     "name": "#%%\n"
    }
   },
   "outputs": [],
   "source": [
    "def pickMate(scores):\n",
    "    array = np.array(scores)\n",
    "    temp = array.argsort()\n",
    "    ranks = np.empty_like(temp)\n",
    "    ranks[temp] = np.arange(len(array))\n",
    "\n",
    "    fitness = [len(ranks) - x for x in ranks]\n",
    "    cum_scores = copy.deepcopy(fitness)\n",
    "    for i in range(1,len(cum_scores)):\n",
    "        cum_scores[i] = fitness[i] + cum_scores[i-1]\n",
    "        \n",
    "    probs = [x / cum_scores[-1] for x in cum_scores]\n",
    "    rand = random.random()\n",
    "    for i in range(0, len(probs)):\n",
    "        if rand < probs[i]:\n",
    "            return i"
   ]
  },
  {
   "cell_type": "code",
   "execution_count": 155,
   "metadata": {
    "pycharm": {
     "is_executing": false,
     "name": "#%%\n"
    }
   },
   "outputs": [],
   "source": [
    "def fitness(route, amap):\n",
    "    score = 0\n",
    "    for i in range(1, len(route)):\n",
    "        if (amap[route[i-1]][route[i]] == 0) and i != len(amap)-1:\n",
    "            print(\"WARNING: INVALID ROUTE\")\n",
    "            print(route)\n",
    "            print(amap)\n",
    "        score = score + amap[route[i-1]][route[i]]\n",
    "\n",
    "    return score"
   ]
  },
  {
   "cell_type": "code",
   "execution_count": 156,
   "metadata": {
    "pycharm": {
     "is_executing": false
    }
   },
   "outputs": [],
   "source": [
    "def plotBest(amap,  route, iterNum): \n",
    "    ax = sns.heatmap(amap)\n",
    "    \n",
    "    x = [0.5] + [x + 0.5 for x in route[0:len(route)-1]] + [len(amap) - 0.5] \n",
    "    y = [0.5] + [x + 0.5 for x in route[1:len(route)]] + [len(amap) - 0.5] \n",
    "    \n",
    "    plt.plot(x,y, marker='o', linewidth=4, markersize=12, linestyle=\"-\", color='white') \n",
    "    plt.savefig('images/new100plot_%i.png' % (iterNum), dpi=300)\n",
    "    plt.show()\n"
   ]
  },
  {
   "cell_type": "code",
   "execution_count": 157,
   "metadata": {
    "pycharm": {
     "is_executing": false,
     "name": "#%%\n"
    }
   },
   "outputs": [
    {
     "name": "stdout",
     "output_type": "stream",
     "text": [
      "Source: Canóvanas Destination: Guaynabo\n"
     ]
    },
    {
     "data": {
      "image/png": "[encoded data removed]",
      "text/plain": [
       "<Figure size 432x288 with 2 Axes>"
      ]
     },
     "metadata": {
      "needs_background": "light"
     },
     "output_type": "display_data"
    },
    {
     "name": "stdout",
     "output_type": "stream",
     "text": [
      "Iterations 0: best so far is 13 steps for a distance of 23.910000\n"
     ]
    },
    {
     "data": {
      "image/png": "[encoded data removed]",
      "text/plain": [
       "<Figure size 432x288 with 2 Axes>"
      ]
     },
     "metadata": {
      "needs_background": "light"
     },
     "output_type": "display_data"
    },
    {
     "name": "stdout",
     "output_type": "stream",
     "text": [
      "Iterations 1: best so far is 4 steps for a distance of 2.320000\n"
     ]
    },
    {
     "data": {
      "image/png": "[encoded data removed]",
      "text/plain": [
       "<Figure size 432x288 with 2 Axes>"
      ]
     },
     "metadata": {
      "needs_background": "light"
     },
     "output_type": "display_data"
    }
   ],
   "source": [
    "sparsenessOfMap = 0.95\n",
    "sizeOfMap = 1000 \n",
    "populationSize = 30 \n",
    "numIterations = 10 #1000 \n",
    "numCouples = 9 \n",
    "numWinnerToKeep = 2 \n",
    "mutationProb = 0.05 \n",
    "numOfGroups = 1 \n",
    "\n",
    "amap = createMapFromCsv() #initializeMap(sparsenessOfMap, sizeOfMap)#, numOfGroups)\n",
    "population = createStartingPopulation(populationSize, amap)\n",
    "\n",
    "lastDist = 1000000000\n",
    "\n",
    "for i in range(0, numIterations): \n",
    "    newPop = [] \n",
    "    scores = scorePopulation(population, amap)\n",
    "    \n",
    "    best = population[np.argmin(scores)]\n",
    "    numOfMoves = len(best)\n",
    "    dist = fitness(best, amap)\n",
    "    \n",
    "    if dist != lastDist: \n",
    "        print(\"Iterations %i: best so far is %i steps for a distance of %f\" % (i, numOfMoves, dist))\n",
    "        plotBest(amap, best, i)\n",
    "    \n",
    "    for j in range(0, numCouples):\n",
    "        new1, new2 = crossover(population[pickMate(scores)], population[pickMate(scores)])\n",
    "        newPop = newPop + [new1, new2]\n",
    "        \n",
    "    for j in range(0, len(newPop)): \n",
    "        newPop[j] = np.copy(mutate(newPop[j], 0.05, amap))\n",
    "        \n",
    "    newPop += [population[np.argmin(scores)]]\n",
    "    for j in range(1, numWinnerToKeep): \n",
    "        keeper = pickMate(scores)\n",
    "        newPop += [population[keeper]]\n",
    "        \n",
    "    while len(newPop) < populationSize:\n",
    "        newPop += [createNewMember(amap)]\n",
    "    \n",
    "    population = copy.deepcopy(newPop)\n",
    "    lastDist = dist "
   ]
  }
 ],
 "metadata": {
  "kernelspec": {
   "display_name": "Python 3",
   "language": "python",
   "name": "python3"
  },
  "language_info": {
   "codemirror_mode": {
    "name": "ipython",
    "version": 3
   },
   "file_extension": ".py",
   "mimetype": "text/x-python",
   "name": "python",
   "nbconvert_exporter": "python",
   "pygments_lexer": "ipython3",
   "version": "3.8.1"
  },
  "pycharm": {
   "stem_cell": {
    "cell_type": "raw",
    "metadata": {
     "collapsed": false
    },
    "source": []
   }
  }
 },
 "nbformat": 4,
 "nbformat_minor": 4
}
