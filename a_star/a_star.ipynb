{
 "cells": [
  {
   "cell_type": "code",
   "execution_count": 1,
   "metadata": {},
   "outputs": [],
   "source": [
    "from pathfinding.core.diagonal_movement import DiagonalMovement\n",
    "from pathfinding.core.grid import Grid\n",
    "from pathfinding.finder.a_star import AStarFinder\n",
    "import pandas as pd \n",
    "import numpy as np "
   ]
  },
  {
   "cell_type": "code",
   "execution_count": 2,
   "metadata": {},
   "outputs": [],
   "source": [
    "def getPueblos(data):\n",
    "    allPueblos = []\n",
    "    for i in data['source']:\n",
    "        if i not in allPueblos and i is not np.nan: \n",
    "            allPueblos.append(i)\n",
    "    \n",
    "    for i in data['dest']:\n",
    "        if i not in allPueblos and i is not np.nan: \n",
    "            allPueblos.append(i)\n",
    "\n",
    "    return allPueblos "
   ]
  },
  {
   "cell_type": "code",
   "execution_count": 3,
   "metadata": {},
   "outputs": [],
   "source": [
    "def createMapFromCsv(data, allPueblos, start, end):\n",
    "    N = len(allPueblos)\n",
    "    amap = np.ones((N,N))\n",
    "    print(\"Source: \" + allPueblos[start] + \"\\nDestination: \" + allPueblos[end])\n",
    "    \n",
    "    for i in range(0, N):\n",
    "        for j in range(0, N):\n",
    "            src = allPueblos[i]\n",
    "            dest = allPueblos[j]\n",
    "            value = data.loc[(data['source']==src) & (data['dest']==dest)]['weight'].values\n",
    "            if src == dest: \n",
    "                continue \n",
    "            else: \n",
    "                value = data.loc[(data['source']==src) & (data['dest']==dest)]['weight'].values\n",
    "                if(len(value)>0):\n",
    "                    amap[i][j] = amap[j][i] = value[0]\n",
    "    return amap "
   ]
  },
  {
   "cell_type": "code",
   "execution_count": 4,
   "metadata": {},
   "outputs": [
    {
     "output_type": "stream",
     "name": "stdout",
     "text": "Source: Caguas\nDestination: Guaynabo\noperations: 133 path length: 33 path cost: 3.94\n+------------------------------------------------------------------------------+\n|               #              #       #       #  #                            |\n|        ##                       #                                            |\n|                  #             #                                             |\n|                               #   #                      #            #      |\n|            #                #                                                |\n|                                                   #         # #      #   #  #|\n|                                          #    #           #             #    |\n|                                 #                     #            # #       |\n| #           #                             #    #                #            |\n| #                                       #  # #                   #           |\n|           #              #   #                                    #         #|\n|          #                    #               #    #                         |\n|    #           #              #   #                                #         |\n|        #            #    #                                         #         |\n|                 #      #                          #                      #   |\n|#                #         #  #                                 #             |\n|            #                                                                 |\n|              ##      #  #            #                                      #|\n|  #                                           #                               |\n|                     #  #           #                                         |\n|                                      ##     #   #      #                  #  |\n|             #     #                 #                       #                |\n|                 #        #                                                   |\n|                                  #            #      #         #     #       |\n|              #    #      #         ##                                        |\n|                 #                                                            |\n|          #  #        # #                               ##     #              |\n|               #              #     #                            #            |\n|                                              #              #              # |\n|    #                                                     #               #   |\n|#         #    #           #   #        #  #                          #       |\n|   #       ##                 #     #                                         |\n|  #                               #                                           |\n| #     #                                     #             #                  |\n|                       #        #             #                               |\n|   #        #                          #                                      |\n|                   #    #  #   #                                     #    #   |\n|                     #  #                                      #       #      |\n|#                #  #                      #                      #       #   |\n|                    #              #            #            #                |\n|                              #                                               |\n|         #                                          #             #           |\n|      #                                          #                            |\n|        #                     #       #               #                       |\n|         #                                                # #    #     #   # #|\n|                    #            #                                      #     |\n|#        #        #         #     #              #                            |\n|      #    #           #                                   #                  |\n|        #                              #                                      |\n|#                   #                     #   #                               |\n|                                                          #        #         e|\n|     #        #                                                     #       x |\n|           #                             #                          #       x |\n|                                                                          # x |\n|                       #                   #             #            #     x |\n|       #                                                         #         x  |\n|                    #     #                                             # x   |\n|                          #                           #    #             x    |\n|   #                         #              #     #                   xxx     |\n|      #                          #             #         #           x        |\n|                                            #                       x         |\n|     #               #      #          #                           x          |\n|                                                                  x           |\n|     #                    #          #                           x  #         |\n|               #       #                                        x     #     # |\n|        #                  #                #          #       x              |\n|         #                            #  #                    x               |\n|          #                                       #          x                |\n|       #    ##                                     ##       x  #              |\n|                                    #                      x             #    |\n|     # #               #      #                       #   x     #      #      |\n|   #                                 #      #             x           #       |\n|                                             #          # x                   |\n|      #                                                xxx           #      # |\n|     #        #              #      # #              #x                       |\n|                    #                       #        x                        |\n|                            #                      xx           #        #    |\n|     #    #      #                          #     s                           |\n+------------------------------------------------------------------------------+\n"
    }
   ],
   "source": [
    "filename = \"../map.csv\"\n",
    "\n",
    "StartPueblo = 'Caguas'\n",
    "EndPueblo = 'Guaynabo'\n",
    "\n",
    "csv = pd.read_csv(filename, names=['source', 'dest', 'weight'],usecols=[0, 1, 5]) \n",
    "pueblos = getPueblos(csv)\n",
    "\n",
    "snum = 0\n",
    "enum = len(pueblos)\n",
    "\n",
    "for p in range(len(pueblos)):\n",
    "    if pueblos[p] == StartPueblo: \n",
    "        snum = p \n",
    "    if pueblos[p] == EndPueblo: \n",
    "        enum = p \n",
    "\n",
    "amap = createMapFromCsv(csv, pueblos, snum, enum) \n",
    "\n",
    "matrix = amap \n",
    "grid = Grid(matrix=matrix)\n",
    "\n",
    "start = grid.node(snum, enum)\n",
    "end = grid.node(enum, snum)\n",
    "\n",
    "finder = AStarFinder(diagonal_movement=DiagonalMovement.always)\n",
    "path, runs = finder.find_path(start, end, grid)\n",
    "\n",
    "pathcost = 0\n",
    "for i in path:\n",
    "    x = i[0]\n",
    "    y = i[1]\n",
    "    val = amap[x][y]\n",
    "    temppc = pathcost\n",
    "    if val != 1: \n",
    "        pathcost += val\n",
    "        \n",
    "print('operations:', runs, 'path length:', len(path), 'path cost:', pathcost)\n",
    "print(grid.grid_str(path=path, start=start, end=end))"
   ]
  },
  {
   "cell_type": "code",
   "execution_count": null,
   "metadata": {},
   "outputs": [],
   "source": []
  }
 ],
 "metadata": {
  "kernelspec": {
   "display_name": "Python 3",
   "language": "python",
   "name": "python3"
  },
  "language_info": {
   "codemirror_mode": {
    "name": "ipython",
    "version": 3
   },
   "file_extension": ".py",
   "mimetype": "text/x-python",
   "name": "python",
   "nbconvert_exporter": "python",
   "pygments_lexer": "ipython3",
   "version": "3.8.2-final"
  }
 },
 "nbformat": 4,
 "nbformat_minor": 4
}