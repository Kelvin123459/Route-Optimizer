{
 "cells": [
  {
   "cell_type": "code",
   "execution_count": 1,
   "metadata": {},
   "outputs": [],
   "source": [
    "from pathfinding.core.diagonal_movement import DiagonalMovement\n",
    "from pathfinding.core.grid import Grid\n",
    "from pathfinding.finder.a_star import AStarFinder\n",
    "import pandas as pd \n",
    "import numpy as np "
   ]
  },
  {
   "cell_type": "code",
   "execution_count": 2,
   "metadata": {},
   "outputs": [],
   "source": [
    "def getPueblos(data):\n",
    "    allPueblos = []\n",
    "    for i in data['source']:\n",
    "        if i not in allPueblos and i is not np.nan: \n",
    "            allPueblos.append(i)\n",
    "    \n",
    "    for i in data['dest']:\n",
    "        if i not in allPueblos and i is not np.nan: \n",
    "            allPueblos.append(i)\n",
    "\n",
    "    return allPueblos "
   ]
  },
  {
   "cell_type": "code",
   "execution_count": 3,
   "metadata": {},
   "outputs": [],
   "source": [
    "def createMapFromCsv(data, allPueblos, start, end):\n",
    "    N = len(allPueblos)\n",
    "    amap = np.ones((N,N))\n",
    "    print(\"Source: \" + allPueblos[start] + \"\\nDestination: \" + allPueblos[end])\n",
    "    \n",
    "    for i in range(0, N):\n",
    "        for j in range(0, N):\n",
    "            src = allPueblos[i]\n",
    "            dest = allPueblos[j]\n",
    "            value = data.loc[(data['source']==src) & (data['dest']==dest)]['weight'].values\n",
    "            if src == dest: \n",
    "                continue \n",
    "            else: \n",
    "                value = data.loc[(data['source']==src) & (data['dest']==dest)]['weight'].values\n",
    "                if(len(value)>0):\n",
    "                    amap[i][j] = amap[j][i] = value[0]\n",
    "                \n",
    "#     ax = sns.heatmap(amap)\n",
    "#     plt.show()\n",
    "    return amap "
   ]
  },
  {
   "cell_type": "code",
   "execution_count": 4,
   "metadata": {},
   "outputs": [
    {
     "output_type": "error",
     "ename": "NameError",
     "evalue": "name 'pueblos' is not defined",
     "traceback": [
      "\u001b[1;31m---------------------------------------------------------------------------\u001b[0m",
      "\u001b[1;31mNameError\u001b[0m                                 Traceback (most recent call last)",
      "\u001b[1;32m<ipython-input-4-4adfff513877>\u001b[0m in \u001b[0;36m<module>\u001b[1;34m\u001b[0m\n\u001b[0;32m      5\u001b[0m \u001b[1;33m\u001b[0m\u001b[0m\n\u001b[0;32m      6\u001b[0m \u001b[0msnum\u001b[0m \u001b[1;33m=\u001b[0m \u001b[1;36m0\u001b[0m\u001b[1;33m\u001b[0m\u001b[1;33m\u001b[0m\u001b[0m\n\u001b[1;32m----> 7\u001b[1;33m \u001b[0menum\u001b[0m \u001b[1;33m=\u001b[0m \u001b[0mlen\u001b[0m\u001b[1;33m(\u001b[0m\u001b[0mpueblos\u001b[0m\u001b[1;33m)\u001b[0m\u001b[1;33m\u001b[0m\u001b[1;33m\u001b[0m\u001b[0m\n\u001b[0m\u001b[0;32m      8\u001b[0m \u001b[1;33m\u001b[0m\u001b[0m\n\u001b[0;32m      9\u001b[0m \u001b[1;32mfor\u001b[0m \u001b[0mp\u001b[0m \u001b[1;32min\u001b[0m \u001b[0mrange\u001b[0m\u001b[1;33m(\u001b[0m\u001b[0mlen\u001b[0m\u001b[1;33m(\u001b[0m\u001b[0mpueblos\u001b[0m\u001b[1;33m)\u001b[0m\u001b[1;33m)\u001b[0m\u001b[1;33m:\u001b[0m\u001b[1;33m\u001b[0m\u001b[1;33m\u001b[0m\u001b[0m\n",
      "\u001b[1;31mNameError\u001b[0m: name 'pueblos' is not defined"
     ]
    }
   ],
   "source": [
    "filename = \"../map.csv\"\n",
    "\n",
    "StartPueblo = 'Caguas'\n",
    "EndPueblo = 'Guaynabo'\n",
    "\n",
    "snum = 0\n",
    "enum = len(pueblos)\n",
    "\n",
    "for p in range(len(pueblos)):\n",
    "    if pueblos[p] == StartPueblo: \n",
    "        snum = p \n",
    "    if pueblos[p] == EndPueblo: \n",
    "        enum = p \n",
    "\n",
    "csv = pd.read_csv(filename, names=['source', 'dest', 'weight'],usecols=[0, 1, 5]) \n",
    "pueblos = getPueblos(csv)\n",
    "amap = createMapFromCsv(csv, pueblos, snum, enum) \n",
    "\n",
    "matrix = amap \n",
    "# [\n",
    "#   [1, 1, 1],\n",
    "#   [1, 0, 1],\n",
    "#   [1, 1, 1]\n",
    "# ]\n",
    "grid = Grid(matrix=matrix)\n",
    "\n",
    "start = grid.node(snum, enum)\n",
    "end = grid.node(enum, snum)\n",
    "\n",
    "finder = AStarFinder(diagonal_movement=DiagonalMovement.always)\n",
    "path, runs = finder.find_path(start, end, grid)\n",
    "\n",
    "pathcost = 0\n",
    "for i in path:\n",
    "    x = i[0]\n",
    "    y = i[1]\n",
    "    val = amap[x][y]\n",
    "    temppc = pathcost\n",
    "    if val != 1: \n",
    "        pathcost += val\n",
    "   \n",
    "    if temppc != pathcost: \n",
    "        print(pueblos[x])\n",
    "        print(pathcost)\n",
    "        \n",
    "        \n",
    "print('operations:', runs, 'path length:', len(path))\n",
    "print(grid.grid_str(path=path, start=start, end=end))"
   ]
  }
 ],
 "metadata": {
  "kernelspec": {
   "display_name": "Python 3",
   "language": "python",
   "name": "python3"
  },
  "language_info": {
   "codemirror_mode": {
    "name": "ipython",
    "version": 3
   },
   "file_extension": ".py",
   "mimetype": "text/x-python",
   "name": "python",
   "nbconvert_exporter": "python",
   "pygments_lexer": "ipython3",
   "version": "3.8.2-final"
  }
 },
 "nbformat": 4,
 "nbformat_minor": 4
}