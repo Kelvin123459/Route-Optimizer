{
 "cells": [
  {
   "cell_type": "code",
   "execution_count": null,
   "metadata": {},
   "outputs": [],
   "source": [
    "import numpy as np\n",
    "import heapq\n",
    "import matplotlib.pyplot as plt\n",
    "from matplotlib.pyplot import figure\n",
    "import pandas as pd\n",
    "\n",
    "data = pd.read_csv(\"../map.csv\", names=['source', 'dest', 'weight'],usecols=[0, 1, 5])\n",
    "\n",
    "allPueblos = []\n",
    "for i in data['source']:\n",
    "    if i not in allPueblos and i is not np.nan:\n",
    "        allPueblos.append(i)\n",
    "\n",
    "    for i in data['dest']:\n",
    "        if i not in allPueblos and i is not np.nan:\n",
    "            allPueblos.append(i)\n",
    "\n",
    "N = len(allPueblos)\n",
    "\n",
    "amap = np.zeros((N,N))\n",
    "for i in range(0, N):\n",
    "    for j in range(0, i):\n",
    "        src = allPueblos[i]\n",
    "        dest = allPueblos[j]\n",
    "        value = data.loc[(data['source']==src) & (data['dest']==dest)]['weight'].values\n",
    "        if(len(value)==1):\n",
    "            amap [i][j] = amap[i][j] = value"
   ]
  },
  {
   "cell_type": "code",
   "execution_count": null,
   "metadata": {},
   "outputs": [],
   "source": [
    "grid = np.array([\n",
    "    [0, 1, 0, 0, 0],\n",
    "    [0, 1, 0, 1, 0],\n",
    "    [0, 1, 0, 1, 0],\n",
    "    [0, 1, 0, 0, 0],\n",
    "    [0, 0, 0, 0, 0]])\n",
    "\n",
    "# start point and goal\n",
    "\n",
    "start = (0,0)\n",
    "goal = (0,4)"
   ]
  },
  {
   "cell_type": "code",
   "execution_count": null,
   "metadata": {},
   "outputs": [],
   "source": [
    "def heuristic(a, b):\n",
    "    return np.sqrt((b[0] - a[0]) ** 2 + (b[1] - a[1]) ** 2)"
   ]
  },
  {
   "cell_type": "code",
   "execution_count": null,
   "metadata": {},
   "outputs": [],
   "source": []
  },
  {
   "cell_type": "code",
   "execution_count": null,
   "metadata": {},
   "outputs": [],
   "source": []
  },
  {
   "cell_type": "code",
   "execution_count": null,
   "metadata": {},
   "outputs": [],
   "source": []
  },
  {
   "cell_type": "code",
   "execution_count": null,
   "metadata": {},
   "outputs": [],
   "source": []
  },
  {
   "cell_type": "code",
   "execution_count": null,
   "metadata": {},
   "outputs": [],
   "source": []
  },
  {
   "cell_type": "code",
   "execution_count": null,
   "metadata": {},
   "outputs": [],
   "source": []
  }
 ],
 "metadata": {
  "kernelspec": {
   "display_name": "Python 3",
   "language": "python",
   "name": "python3"
  },
  "language_info": {
   "codemirror_mode": {
    "name": "ipython",
    "version": 3
   },
   "file_extension": ".py",
   "mimetype": "text/x-python",
   "name": "python",
   "nbconvert_exporter": "python",
   "pygments_lexer": "ipython3",
   "version": "3.8.1"
  }
 },
 "nbformat": 4,
 "nbformat_minor": 4
}
